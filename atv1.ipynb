{
  "nbformat": 4,
  "nbformat_minor": 0,
  "metadata": {
    "colab": {
      "provenance": [],
      "authorship_tag": "ABX9TyMj5Vo3Nr+lMuoe8CJCs/tc",
      "include_colab_link": true
    },
    "kernelspec": {
      "name": "python3",
      "display_name": "Python 3"
    },
    "language_info": {
      "name": "python"
    }
  },
  "cells": [
    {
      "cell_type": "markdown",
      "metadata": {
        "id": "view-in-github",
        "colab_type": "text"
      },
      "source": [
        "<a href=\"https://colab.research.google.com/github/dmsystem/10604-SD-EAD1530/blob/master/atv1.ipynb\" target=\"_parent\"><img src=\"https://colab.research.google.com/assets/colab-badge.svg\" alt=\"Open In Colab\"/></a>"
      ]
    },
    {
      "cell_type": "code",
      "execution_count": 1,
      "metadata": {
        "colab": {
          "base_uri": "https://localhost:8080/"
        },
        "id": "aUzXKDViaRfd",
        "outputId": "e0144960-a459-4baf-c30d-a889b8990dae"
      },
      "outputs": [
        {
          "output_type": "stream",
          "name": "stdout",
          "text": [
            "Digite a quantidade de rodas do veículo: 4\n",
            "Digite o peso bruto em quilogramas do veículo: 3500\n",
            "Digite a quantidade de pessoas no veículo: 5\n",
            "Melhor categoria de habilitação: Veículos com quatro rodas, até 3500 kg e acomodam até oito pessoas (Categoria B)\n"
          ]
        }
      ],
      "source": [
        "def categoria_habilitacao(quantidade_rodas, peso_bruto, quantidade_pessoas):\n",
        "    if quantidade_rodas == 2 or quantidade_rodas == 3:\n",
        "        return 'A'\n",
        "    elif quantidade_rodas == 4 and quantidade_pessoas <= 8 and peso_bruto <= 3500:\n",
        "        return 'B'\n",
        "    elif quantidade_rodas >= 4 and quantidade_pessoas > 8:\n",
        "        return 'D'\n",
        "    elif quantidade_rodas >= 4 and peso_bruto > 6000:\n",
        "        return 'E'\n",
        "    else:\n",
        "        return 'C'\n",
        "\n",
        "def main():\n",
        "    try:\n",
        "        quantidade_rodas = int(input(\"Digite a quantidade de rodas do veículo: \"))\n",
        "        peso_bruto = float(input(\"Digite o peso bruto em quilogramas do veículo: \"))\n",
        "        quantidade_pessoas = int(input(\"Digite a quantidade de pessoas no veículo: \"))\n",
        "\n",
        "        categoria = categoria_habilitacao(quantidade_rodas, peso_bruto, quantidade_pessoas)\n",
        "\n",
        "        if categoria == 'A':\n",
        "            print(\"Melhor categoria de habilitação: Veículos com duas ou três rodas (Categoria A)\")\n",
        "        elif categoria == 'B':\n",
        "            print(\"Melhor categoria de habilitação: Veículos com quatro rodas, até 3500 kg e acomodam até oito pessoas (Categoria B)\")\n",
        "        elif categoria == 'D':\n",
        "            print(\"Melhor categoria de habilitação: Veículos com quatro rodas e acomodam mais de oito pessoas (Categoria D)\")\n",
        "        elif categoria == 'E':\n",
        "            print(\"Melhor categoria de habilitação: Veículos com quatro rodas e com mais de 6000 kg (Categoria E)\")\n",
        "        else:\n",
        "            print(\"Melhor categoria de habilitação: Veículos com quatro rodas e peso entre 3500 e 6000 kg (Categoria C)\")\n",
        "\n",
        "    except ValueError:\n",
        "        print(\"Entrada inválida. Certifique-se de digitar números corretos para as características do veículo.\")\n",
        "\n",
        "if __name__ == \"__main__\":\n",
        "    main()\n"
      ]
    }
  ]
}