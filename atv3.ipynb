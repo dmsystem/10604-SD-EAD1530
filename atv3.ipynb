{
  "nbformat": 4,
  "nbformat_minor": 0,
  "metadata": {
    "colab": {
      "provenance": [],
      "authorship_tag": "ABX9TyMCQH1PHkFG0gUAS5Vktc9l",
      "include_colab_link": true
    },
    "kernelspec": {
      "name": "python3",
      "display_name": "Python 3"
    },
    "language_info": {
      "name": "python"
    }
  },
  "cells": [
    {
      "cell_type": "markdown",
      "metadata": {
        "id": "view-in-github",
        "colab_type": "text"
      },
      "source": [
        "<a href=\"https://colab.research.google.com/github/dmsystem/CursoProz/blob/master/atv3.ipynb\" target=\"_parent\"><img src=\"https://colab.research.google.com/assets/colab-badge.svg\" alt=\"Open In Colab\"/></a>"
      ]
    },
    {
      "cell_type": "code",
      "execution_count": 1,
      "metadata": {
        "colab": {
          "base_uri": "https://localhost:8080/"
        },
        "id": "DZTRqYSvPy4_",
        "outputId": "be63f779-1a42-45db-a24c-fe23c9d80b4c"
      },
      "outputs": [
        {
          "output_type": "stream",
          "name": "stdout",
          "text": [
            "7\n",
            "3\n",
            "10\n",
            "2.5\n",
            "Erro: Divisão por zero.\n",
            "0\n",
            "Operação inválida.\n",
            "0\n"
          ]
        }
      ],
      "source": [
        "def calculadora(num1, num2, operacao):\n",
        "    if operacao == 1:  # Soma\n",
        "        resultado = num1 + num2\n",
        "    elif operacao == 2:  # Subtração\n",
        "        resultado = num1 - num2\n",
        "    elif operacao == 3:  # Multiplicação\n",
        "        resultado = num1 * num2\n",
        "    elif operacao == 4:  # Divisão\n",
        "        if num2 != 0:\n",
        "            resultado = num1 / num2\n",
        "        else:\n",
        "            print(\"Erro: Divisão por zero.\")\n",
        "            return 0\n",
        "    else:\n",
        "        print(\"Operação inválida.\")\n",
        "        return 0\n",
        "\n",
        "    return resultado\n",
        "\n",
        "# Exemplos de uso da função:\n",
        "print(calculadora(5, 2, 1))  # Soma: 5 + 2 = 7\n",
        "print(calculadora(5, 2, 2))  # Subtração: 5 - 2 = 3\n",
        "print(calculadora(5, 2, 3))  # Multiplicação: 5 * 2 = 10\n",
        "print(calculadora(5, 2, 4))  # Divisão: 5 / 2 = 2.5\n",
        "print(calculadora(5, 0, 4))  # Erro: Divisão por zero. Resultado: 0\n",
        "print(calculadora(5, 2, 5))  # Operação inválida. Resultado: 0\n"
      ]
    }
  ]
}